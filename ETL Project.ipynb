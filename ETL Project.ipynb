{
 "cells": [
  {
   "cell_type": "code",
   "execution_count": 2,
   "metadata": {},
   "outputs": [],
   "source": [
    "import pandas as pd\n",
    "from sqlalchemy import create_engine"
   ]
  },
  {
   "cell_type": "markdown",
   "metadata": {},
   "source": [
    "### Store CSV into DataFrame"
   ]
  },
  {
   "cell_type": "code",
   "execution_count": 3,
   "metadata": {},
   "outputs": [
    {
     "data": {
      "text/html": [
       "<div>\n",
       "<style scoped>\n",
       "    .dataframe tbody tr th:only-of-type {\n",
       "        vertical-align: middle;\n",
       "    }\n",
       "\n",
       "    .dataframe tbody tr th {\n",
       "        vertical-align: top;\n",
       "    }\n",
       "\n",
       "    .dataframe thead th {\n",
       "        text-align: right;\n",
       "    }\n",
       "</style>\n",
       "<table border=\"1\" class=\"dataframe\">\n",
       "  <thead>\n",
       "    <tr style=\"text-align: right;\">\n",
       "      <th></th>\n",
       "      <th>State</th>\n",
       "      <th>2017</th>\n",
       "      <th>2016</th>\n",
       "      <th>2015</th>\n",
       "      <th>2014</th>\n",
       "      <th>2013</th>\n",
       "      <th>2013.1</th>\n",
       "      <th>2012</th>\n",
       "      <th>2011</th>\n",
       "      <th>2010</th>\n",
       "      <th>...</th>\n",
       "      <th>1993</th>\n",
       "      <th>1992</th>\n",
       "      <th>1991</th>\n",
       "      <th>1990</th>\n",
       "      <th>1989</th>\n",
       "      <th>1988</th>\n",
       "      <th>1987</th>\n",
       "      <th>1986</th>\n",
       "      <th>1985</th>\n",
       "      <th>1984</th>\n",
       "    </tr>\n",
       "  </thead>\n",
       "  <tbody>\n",
       "    <tr>\n",
       "      <th>0</th>\n",
       "      <td>United States</td>\n",
       "      <td>61372</td>\n",
       "      <td>60309</td>\n",
       "      <td>58476</td>\n",
       "      <td>55613</td>\n",
       "      <td>56479</td>\n",
       "      <td>54744</td>\n",
       "      <td>54569</td>\n",
       "      <td>54673</td>\n",
       "      <td>55520</td>\n",
       "      <td>...</td>\n",
       "      <td>52334</td>\n",
       "      <td>52615</td>\n",
       "      <td>53025</td>\n",
       "      <td>54621</td>\n",
       "      <td>55329</td>\n",
       "      <td>54390</td>\n",
       "      <td>53945</td>\n",
       "      <td>53309</td>\n",
       "      <td>51455</td>\n",
       "      <td>50511</td>\n",
       "    </tr>\n",
       "    <tr>\n",
       "      <th>1</th>\n",
       "      <td>Alabama</td>\n",
       "      <td>51113</td>\n",
       "      <td>48237</td>\n",
       "      <td>46053</td>\n",
       "      <td>43820</td>\n",
       "      <td>49876</td>\n",
       "      <td>43616</td>\n",
       "      <td>46490</td>\n",
       "      <td>46520</td>\n",
       "      <td>46120</td>\n",
       "      <td>...</td>\n",
       "      <td>42017</td>\n",
       "      <td>44323</td>\n",
       "      <td>42852</td>\n",
       "      <td>42607</td>\n",
       "      <td>40740</td>\n",
       "      <td>39852</td>\n",
       "      <td>40848</td>\n",
       "      <td>40965</td>\n",
       "      <td>39941</td>\n",
       "      <td>39007</td>\n",
       "    </tr>\n",
       "    <tr>\n",
       "      <th>2</th>\n",
       "      <td>Alaska</td>\n",
       "      <td>72231</td>\n",
       "      <td>77351</td>\n",
       "      <td>77717</td>\n",
       "      <td>70095</td>\n",
       "      <td>76387</td>\n",
       "      <td>64439</td>\n",
       "      <td>68080</td>\n",
       "      <td>62731</td>\n",
       "      <td>65178</td>\n",
       "      <td>...</td>\n",
       "      <td>71917</td>\n",
       "      <td>71791</td>\n",
       "      <td>71482</td>\n",
       "      <td>71686</td>\n",
       "      <td>68919</td>\n",
       "      <td>66133</td>\n",
       "      <td>68791</td>\n",
       "      <td>67138</td>\n",
       "      <td>75777</td>\n",
       "      <td>72912</td>\n",
       "    </tr>\n",
       "    <tr>\n",
       "      <th>3</th>\n",
       "      <td>Arizona</td>\n",
       "      <td>61125</td>\n",
       "      <td>58328</td>\n",
       "      <td>54060</td>\n",
       "      <td>51050</td>\n",
       "      <td>55453</td>\n",
       "      <td>53335</td>\n",
       "      <td>50320</td>\n",
       "      <td>53108</td>\n",
       "      <td>52839</td>\n",
       "      <td>...</td>\n",
       "      <td>51110</td>\n",
       "      <td>50420</td>\n",
       "      <td>54101</td>\n",
       "      <td>53309</td>\n",
       "      <td>54651</td>\n",
       "      <td>52811</td>\n",
       "      <td>55369</td>\n",
       "      <td>54600</td>\n",
       "      <td>52019</td>\n",
       "      <td>48280</td>\n",
       "    </tr>\n",
       "    <tr>\n",
       "      <th>4</th>\n",
       "      <td>Arkansas</td>\n",
       "      <td>48829</td>\n",
       "      <td>46894</td>\n",
       "      <td>44282</td>\n",
       "      <td>46560</td>\n",
       "      <td>41503</td>\n",
       "      <td>42075</td>\n",
       "      <td>41735</td>\n",
       "      <td>45114</td>\n",
       "      <td>43477</td>\n",
       "      <td>...</td>\n",
       "      <td>38594</td>\n",
       "      <td>41015</td>\n",
       "      <td>41248</td>\n",
       "      <td>41565</td>\n",
       "      <td>41025</td>\n",
       "      <td>40299</td>\n",
       "      <td>38971</td>\n",
       "      <td>40104</td>\n",
       "      <td>38019</td>\n",
       "      <td>35320</td>\n",
       "    </tr>\n",
       "  </tbody>\n",
       "</table>\n",
       "<p>5 rows × 36 columns</p>\n",
       "</div>"
      ],
      "text/plain": [
       "           State   2017   2016   2015   2014   2013  2013.1   2012   2011  \\\n",
       "0  United States  61372  60309  58476  55613  56479   54744  54569  54673   \n",
       "1        Alabama  51113  48237  46053  43820  49876   43616  46490  46520   \n",
       "2         Alaska  72231  77351  77717  70095  76387   64439  68080  62731   \n",
       "3        Arizona  61125  58328  54060  51050  55453   53335  50320  53108   \n",
       "4       Arkansas  48829  46894  44282  46560  41503   42075  41735  45114   \n",
       "\n",
       "    2010  ...   1993   1992   1991   1990   1989   1988   1987   1986   1985  \\\n",
       "0  55520  ...  52334  52615  53025  54621  55329  54390  53945  53309  51455   \n",
       "1  46120  ...  42017  44323  42852  42607  40740  39852  40848  40965  39941   \n",
       "2  65178  ...  71917  71791  71482  71686  68919  66133  68791  67138  75777   \n",
       "3  52839  ...  51110  50420  54101  53309  54651  52811  55369  54600  52019   \n",
       "4  43477  ...  38594  41015  41248  41565  41025  40299  38971  40104  38019   \n",
       "\n",
       "    1984  \n",
       "0  50511  \n",
       "1  39007  \n",
       "2  72912  \n",
       "3  48280  \n",
       "4  35320  \n",
       "\n",
       "[5 rows x 36 columns]"
      ]
     },
     "execution_count": 3,
     "metadata": {},
     "output_type": "execute_result"
    }
   ],
   "source": [
    "med_income_file = \"Resources/household_median_income_2017.csv\"\n",
    "#imported first 52 rows, last row was NaN\n",
    "med_income_df = pd.read_csv(med_income_file, nrows=52)\n",
    "med_income_df.head()"
   ]
  },
  {
   "cell_type": "code",
   "execution_count": 4,
   "metadata": {},
   "outputs": [
    {
     "data": {
      "text/html": [
       "<div>\n",
       "<style scoped>\n",
       "    .dataframe tbody tr th:only-of-type {\n",
       "        vertical-align: middle;\n",
       "    }\n",
       "\n",
       "    .dataframe tbody tr th {\n",
       "        vertical-align: top;\n",
       "    }\n",
       "\n",
       "    .dataframe thead th {\n",
       "        text-align: right;\n",
       "    }\n",
       "</style>\n",
       "<table border=\"1\" class=\"dataframe\">\n",
       "  <thead>\n",
       "    <tr style=\"text-align: right;\">\n",
       "      <th></th>\n",
       "      <th>Location</th>\n",
       "      <th>Life Expectancy at Birth (years)</th>\n",
       "      <th>Footnotes</th>\n",
       "    </tr>\n",
       "  </thead>\n",
       "  <tbody>\n",
       "    <tr>\n",
       "      <th>0</th>\n",
       "      <td>United States</td>\n",
       "      <td>78.7</td>\n",
       "      <td>NaN</td>\n",
       "    </tr>\n",
       "    <tr>\n",
       "      <th>1</th>\n",
       "      <td>Alabama</td>\n",
       "      <td>75.5</td>\n",
       "      <td>NaN</td>\n",
       "    </tr>\n",
       "    <tr>\n",
       "      <th>2</th>\n",
       "      <td>Alaska</td>\n",
       "      <td>78.8</td>\n",
       "      <td>NaN</td>\n",
       "    </tr>\n",
       "    <tr>\n",
       "      <th>3</th>\n",
       "      <td>Arizona</td>\n",
       "      <td>79.9</td>\n",
       "      <td>NaN</td>\n",
       "    </tr>\n",
       "    <tr>\n",
       "      <th>4</th>\n",
       "      <td>Arkansas</td>\n",
       "      <td>76.0</td>\n",
       "      <td>NaN</td>\n",
       "    </tr>\n",
       "  </tbody>\n",
       "</table>\n",
       "</div>"
      ],
      "text/plain": [
       "        Location  Life Expectancy at Birth (years)  Footnotes\n",
       "0  United States                              78.7        NaN\n",
       "1        Alabama                              75.5        NaN\n",
       "2         Alaska                              78.8        NaN\n",
       "3        Arizona                              79.9        NaN\n",
       "4       Arkansas                              76.0        NaN"
      ]
     },
     "execution_count": 4,
     "metadata": {},
     "output_type": "execute_result"
    }
   ],
   "source": [
    "life_expect_file = \"Resources/life_expectancy_2010-2015.csv\"\n",
    "#imported only rows 3-55 from csv as outside rows where just notes, not part of table\n",
    "life_expect_df = pd.read_csv(life_expect_file, header=2, nrows=52)\n",
    "\n",
    "life_expect_df.head()"
   ]
  },
  {
   "cell_type": "markdown",
   "metadata": {},
   "source": [
    "### Create & Clean new Median Income dataframe with select columns"
   ]
  },
  {
   "cell_type": "code",
   "execution_count": 5,
   "metadata": {},
   "outputs": [],
   "source": [
    "#select particular columns\n",
    "new_med_income_df = med_income_df[['State','2010','2011','2012','2013','2014','2014', '2015']]\n",
    "\n",
    "#drop duplicates (just in case)\n",
    "new_med_income_df = new_med_income_df.drop_duplicates('State')\n",
    "\n",
    "#create Median column\n",
    "new_med_income_df['Median'] = new_med_income_df.median(axis=1)\n",
    "\n",
    "# new_med_income_df.head()"
   ]
  },
  {
   "cell_type": "code",
   "execution_count": 6,
   "metadata": {},
   "outputs": [
    {
     "data": {
      "text/html": [
       "<div>\n",
       "<style scoped>\n",
       "    .dataframe tbody tr th:only-of-type {\n",
       "        vertical-align: middle;\n",
       "    }\n",
       "\n",
       "    .dataframe tbody tr th {\n",
       "        vertical-align: top;\n",
       "    }\n",
       "\n",
       "    .dataframe thead th {\n",
       "        text-align: right;\n",
       "    }\n",
       "</style>\n",
       "<table border=\"1\" class=\"dataframe\">\n",
       "  <thead>\n",
       "    <tr style=\"text-align: right;\">\n",
       "      <th></th>\n",
       "      <th>median_income</th>\n",
       "    </tr>\n",
       "    <tr>\n",
       "      <th>state</th>\n",
       "      <th></th>\n",
       "    </tr>\n",
       "  </thead>\n",
       "  <tbody>\n",
       "    <tr>\n",
       "      <th>United States</th>\n",
       "      <td>55613.0</td>\n",
       "    </tr>\n",
       "    <tr>\n",
       "      <th>Alabama</th>\n",
       "      <td>46120.0</td>\n",
       "    </tr>\n",
       "    <tr>\n",
       "      <th>Alaska</th>\n",
       "      <td>70095.0</td>\n",
       "    </tr>\n",
       "    <tr>\n",
       "      <th>Arizona</th>\n",
       "      <td>52839.0</td>\n",
       "    </tr>\n",
       "    <tr>\n",
       "      <th>Arkansas</th>\n",
       "      <td>44282.0</td>\n",
       "    </tr>\n",
       "  </tbody>\n",
       "</table>\n",
       "</div>"
      ],
      "text/plain": [
       "               median_income\n",
       "state                       \n",
       "United States        55613.0\n",
       "Alabama              46120.0\n",
       "Alaska               70095.0\n",
       "Arizona              52839.0\n",
       "Arkansas             44282.0"
      ]
     },
     "execution_count": 6,
     "metadata": {},
     "output_type": "execute_result"
    }
   ],
   "source": [
    "#drop all specific year columns\n",
    "new_med_income_df = new_med_income_df.drop(columns=['2010','2011','2012','2013','2014','2014', '2015'])\n",
    "\n",
    "#rename columns\n",
    "new_med_income_df = new_med_income_df.rename(columns={'State':'state','Median':'median_income'})\n",
    "\n",
    "#set index to state\n",
    "new_med_income_df = new_med_income_df.set_index('state')\n",
    "new_med_income_df.head()"
   ]
  },
  {
   "cell_type": "markdown",
   "metadata": {},
   "source": [
    "### Create & Clean new Life Expectancy dataframe with select columns"
   ]
  },
  {
   "cell_type": "code",
   "execution_count": 7,
   "metadata": {},
   "outputs": [
    {
     "data": {
      "text/html": [
       "<div>\n",
       "<style scoped>\n",
       "    .dataframe tbody tr th:only-of-type {\n",
       "        vertical-align: middle;\n",
       "    }\n",
       "\n",
       "    .dataframe tbody tr th {\n",
       "        vertical-align: top;\n",
       "    }\n",
       "\n",
       "    .dataframe thead th {\n",
       "        text-align: right;\n",
       "    }\n",
       "</style>\n",
       "<table border=\"1\" class=\"dataframe\">\n",
       "  <thead>\n",
       "    <tr style=\"text-align: right;\">\n",
       "      <th></th>\n",
       "      <th>life_expectancy</th>\n",
       "    </tr>\n",
       "    <tr>\n",
       "      <th>state</th>\n",
       "      <th></th>\n",
       "    </tr>\n",
       "  </thead>\n",
       "  <tbody>\n",
       "    <tr>\n",
       "      <th>United States</th>\n",
       "      <td>78.7</td>\n",
       "    </tr>\n",
       "    <tr>\n",
       "      <th>Alabama</th>\n",
       "      <td>75.5</td>\n",
       "    </tr>\n",
       "    <tr>\n",
       "      <th>Alaska</th>\n",
       "      <td>78.8</td>\n",
       "    </tr>\n",
       "    <tr>\n",
       "      <th>Arizona</th>\n",
       "      <td>79.9</td>\n",
       "    </tr>\n",
       "    <tr>\n",
       "      <th>Arkansas</th>\n",
       "      <td>76.0</td>\n",
       "    </tr>\n",
       "  </tbody>\n",
       "</table>\n",
       "</div>"
      ],
      "text/plain": [
       "               life_expectancy\n",
       "state                         \n",
       "United States             78.7\n",
       "Alabama                   75.5\n",
       "Alaska                    78.8\n",
       "Arizona                   79.9\n",
       "Arkansas                  76.0"
      ]
     },
     "execution_count": 7,
     "metadata": {},
     "output_type": "execute_result"
    }
   ],
   "source": [
    "#select particular columns\n",
    "new_life_expect_df = life_expect_df[['Location', 'Life Expectancy at Birth (years)']].copy()\n",
    "\n",
    "#rename columns\n",
    "new_life_expect_df = new_life_expect_df.rename(columns={'Location':'state',\n",
    "                                                'Life Expectancy at Birth (years)':'life_expectancy'})\n",
    "\n",
    "#set index to state\n",
    "new_life_expect_df = new_life_expect_df.set_index('state')\n",
    "\n",
    "new_life_expect_df.head()"
   ]
  },
  {
   "cell_type": "markdown",
   "metadata": {},
   "source": [
    "### Connect to local database"
   ]
  },
  {
   "cell_type": "code",
   "execution_count": 8,
   "metadata": {},
   "outputs": [],
   "source": [
    "rds_connection_string = \"postgres:postgres@localhost:5432/life_income_db\"\n",
    "engine = create_engine(f'postgresql://{rds_connection_string}')"
   ]
  },
  {
   "cell_type": "markdown",
   "metadata": {},
   "source": [
    "###Check for tables"
   ]
  },
  {
   "cell_type": "code",
   "execution_count": 9,
   "metadata": {},
   "outputs": [
    {
     "data": {
      "text/plain": [
       "['med_income', 'life_expect']"
      ]
     },
     "execution_count": 9,
     "metadata": {},
     "output_type": "execute_result"
    }
   ],
   "source": [
    "engine.table_names()"
   ]
  },
  {
   "cell_type": "markdown",
   "metadata": {},
   "source": [
    "### Use pandas to load csv converted DataFrame into database\n",
    "Commented out because data is already in database."
   ]
  },
  {
   "cell_type": "code",
   "execution_count": 16,
   "metadata": {},
   "outputs": [],
   "source": [
    "# new_med_income_df.to_sql(name='med_income', con=engine, if_exists='append', index=True)"
   ]
  },
  {
   "cell_type": "code",
   "execution_count": null,
   "metadata": {},
   "outputs": [],
   "source": [
    "# new_life_expect_df.to_sql(name='life_expect', con=engine, if_exists='append', index=True)"
   ]
  },
  {
   "cell_type": "markdown",
   "metadata": {},
   "source": [
    "### Confirm data has been added by querying the tables"
   ]
  },
  {
   "cell_type": "code",
   "execution_count": 18,
   "metadata": {},
   "outputs": [
    {
     "name": "stdout",
     "output_type": "stream",
     "text": [
      "Median Income Table\n"
     ]
    },
    {
     "data": {
      "text/html": [
       "<div>\n",
       "<style scoped>\n",
       "    .dataframe tbody tr th:only-of-type {\n",
       "        vertical-align: middle;\n",
       "    }\n",
       "\n",
       "    .dataframe tbody tr th {\n",
       "        vertical-align: top;\n",
       "    }\n",
       "\n",
       "    .dataframe thead th {\n",
       "        text-align: right;\n",
       "    }\n",
       "</style>\n",
       "<table border=\"1\" class=\"dataframe\">\n",
       "  <thead>\n",
       "    <tr style=\"text-align: right;\">\n",
       "      <th></th>\n",
       "      <th>state</th>\n",
       "      <th>median_income</th>\n",
       "    </tr>\n",
       "  </thead>\n",
       "  <tbody>\n",
       "    <tr>\n",
       "      <th>0</th>\n",
       "      <td>United States</td>\n",
       "      <td>55613.0</td>\n",
       "    </tr>\n",
       "    <tr>\n",
       "      <th>1</th>\n",
       "      <td>Alabama</td>\n",
       "      <td>46120.0</td>\n",
       "    </tr>\n",
       "    <tr>\n",
       "      <th>2</th>\n",
       "      <td>Alaska</td>\n",
       "      <td>70095.0</td>\n",
       "    </tr>\n",
       "    <tr>\n",
       "      <th>3</th>\n",
       "      <td>Arizona</td>\n",
       "      <td>52839.0</td>\n",
       "    </tr>\n",
       "    <tr>\n",
       "      <th>4</th>\n",
       "      <td>Arkansas</td>\n",
       "      <td>44282.0</td>\n",
       "    </tr>\n",
       "  </tbody>\n",
       "</table>\n",
       "</div>"
      ],
      "text/plain": [
       "           state  median_income\n",
       "0  United States        55613.0\n",
       "1        Alabama        46120.0\n",
       "2         Alaska        70095.0\n",
       "3        Arizona        52839.0\n",
       "4       Arkansas        44282.0"
      ]
     },
     "execution_count": 18,
     "metadata": {},
     "output_type": "execute_result"
    }
   ],
   "source": [
    "print('Median Income Table')\n",
    "pd.read_sql_query('select * from med_income', con=engine).head()"
   ]
  },
  {
   "cell_type": "code",
   "execution_count": 17,
   "metadata": {},
   "outputs": [
    {
     "name": "stdout",
     "output_type": "stream",
     "text": [
      "Life Expectancy Table\n"
     ]
    },
    {
     "data": {
      "text/html": [
       "<div>\n",
       "<style scoped>\n",
       "    .dataframe tbody tr th:only-of-type {\n",
       "        vertical-align: middle;\n",
       "    }\n",
       "\n",
       "    .dataframe tbody tr th {\n",
       "        vertical-align: top;\n",
       "    }\n",
       "\n",
       "    .dataframe thead th {\n",
       "        text-align: right;\n",
       "    }\n",
       "</style>\n",
       "<table border=\"1\" class=\"dataframe\">\n",
       "  <thead>\n",
       "    <tr style=\"text-align: right;\">\n",
       "      <th></th>\n",
       "      <th>state</th>\n",
       "      <th>life_expectancy</th>\n",
       "    </tr>\n",
       "  </thead>\n",
       "  <tbody>\n",
       "    <tr>\n",
       "      <th>0</th>\n",
       "      <td>United States</td>\n",
       "      <td>78.7</td>\n",
       "    </tr>\n",
       "    <tr>\n",
       "      <th>1</th>\n",
       "      <td>Alabama</td>\n",
       "      <td>75.5</td>\n",
       "    </tr>\n",
       "    <tr>\n",
       "      <th>2</th>\n",
       "      <td>Alaska</td>\n",
       "      <td>78.8</td>\n",
       "    </tr>\n",
       "    <tr>\n",
       "      <th>3</th>\n",
       "      <td>Arizona</td>\n",
       "      <td>79.9</td>\n",
       "    </tr>\n",
       "    <tr>\n",
       "      <th>4</th>\n",
       "      <td>Arkansas</td>\n",
       "      <td>76.0</td>\n",
       "    </tr>\n",
       "  </tbody>\n",
       "</table>\n",
       "</div>"
      ],
      "text/plain": [
       "           state  life_expectancy\n",
       "0  United States             78.7\n",
       "1        Alabama             75.5\n",
       "2         Alaska             78.8\n",
       "3        Arizona             79.9\n",
       "4       Arkansas             76.0"
      ]
     },
     "execution_count": 17,
     "metadata": {},
     "output_type": "execute_result"
    }
   ],
   "source": [
    "print('Life Expectancy Table')\n",
    "pd.read_sql_query('select * from life_expect', con=engine).head()"
   ]
  },
  {
   "cell_type": "markdown",
   "metadata": {},
   "source": [
    "### Join Tables"
   ]
  },
  {
   "cell_type": "code",
   "execution_count": 14,
   "metadata": {},
   "outputs": [
    {
     "data": {
      "text/html": [
       "<div>\n",
       "<style scoped>\n",
       "    .dataframe tbody tr th:only-of-type {\n",
       "        vertical-align: middle;\n",
       "    }\n",
       "\n",
       "    .dataframe tbody tr th {\n",
       "        vertical-align: top;\n",
       "    }\n",
       "\n",
       "    .dataframe thead th {\n",
       "        text-align: right;\n",
       "    }\n",
       "</style>\n",
       "<table border=\"1\" class=\"dataframe\">\n",
       "  <thead>\n",
       "    <tr style=\"text-align: right;\">\n",
       "      <th></th>\n",
       "      <th>state</th>\n",
       "      <th>median_income</th>\n",
       "      <th>life_expectancy</th>\n",
       "    </tr>\n",
       "  </thead>\n",
       "  <tbody>\n",
       "    <tr>\n",
       "      <th>0</th>\n",
       "      <td>United States</td>\n",
       "      <td>55613.0</td>\n",
       "      <td>78.7</td>\n",
       "    </tr>\n",
       "    <tr>\n",
       "      <th>1</th>\n",
       "      <td>Alabama</td>\n",
       "      <td>46120.0</td>\n",
       "      <td>75.5</td>\n",
       "    </tr>\n",
       "    <tr>\n",
       "      <th>2</th>\n",
       "      <td>Alaska</td>\n",
       "      <td>70095.0</td>\n",
       "      <td>78.8</td>\n",
       "    </tr>\n",
       "    <tr>\n",
       "      <th>3</th>\n",
       "      <td>Arizona</td>\n",
       "      <td>52839.0</td>\n",
       "      <td>79.9</td>\n",
       "    </tr>\n",
       "    <tr>\n",
       "      <th>4</th>\n",
       "      <td>Arkansas</td>\n",
       "      <td>44282.0</td>\n",
       "      <td>76.0</td>\n",
       "    </tr>\n",
       "  </tbody>\n",
       "</table>\n",
       "</div>"
      ],
      "text/plain": [
       "           state  median_income  life_expectancy\n",
       "0  United States        55613.0             78.7\n",
       "1        Alabama        46120.0             75.5\n",
       "2         Alaska        70095.0             78.8\n",
       "3        Arizona        52839.0             79.9\n",
       "4       Arkansas        44282.0             76.0"
      ]
     },
     "execution_count": 14,
     "metadata": {},
     "output_type": "execute_result"
    }
   ],
   "source": [
    "pd.read_sql_query('SELECT med_income.state, med_income.median_income, \\\n",
    "                    life_expect.life_expectancy \\\n",
    "                    FROM med_income LEFT JOIN life_expect \\\n",
    "                    ON med_income.state = life_expect.state;', con=engine).head()"
   ]
  },
  {
   "cell_type": "code",
   "execution_count": null,
   "metadata": {},
   "outputs": [],
   "source": []
  }
 ],
 "metadata": {
  "kernelspec": {
   "display_name": "Python 3",
   "language": "python",
   "name": "python3"
  },
  "language_info": {
   "codemirror_mode": {
    "name": "ipython",
    "version": 3
   },
   "file_extension": ".py",
   "mimetype": "text/x-python",
   "name": "python",
   "nbconvert_exporter": "python",
   "pygments_lexer": "ipython3",
   "version": "3.7.3"
  }
 },
 "nbformat": 4,
 "nbformat_minor": 2
}
